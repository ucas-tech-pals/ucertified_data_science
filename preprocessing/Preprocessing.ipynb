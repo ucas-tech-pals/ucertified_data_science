{
 "cells": [
  {
   "cell_type": "markdown",
   "metadata": {},
   "source": [
    "### Import libraries"
   ]
  },
  {
   "cell_type": "code",
   "execution_count": 2,
   "metadata": {},
   "outputs": [],
   "source": [
    "import pandas as pd \n",
    "import numpy as np\n",
    "import matplotlib.pyplot as plt"
   ]
  },
  {
   "cell_type": "markdown",
   "metadata": {},
   "source": [
    "### Import data"
   ]
  },
  {
   "cell_type": "code",
   "execution_count": null,
   "metadata": {},
   "outputs": [
    {
     "data": {
      "text/html": [
       "<div>\n",
       "<style scoped>\n",
       "    .dataframe tbody tr th:only-of-type {\n",
       "        vertical-align: middle;\n",
       "    }\n",
       "\n",
       "    .dataframe tbody tr th {\n",
       "        vertical-align: top;\n",
       "    }\n",
       "\n",
       "    .dataframe thead th {\n",
       "        text-align: right;\n",
       "    }\n",
       "</style>\n",
       "<table border=\"1\" class=\"dataframe\">\n",
       "  <thead>\n",
       "    <tr style=\"text-align: right;\">\n",
       "      <th></th>\n",
       "      <th>highest educational degree</th>\n",
       "      <th>current job</th>\n",
       "      <th>faked a degree</th>\n",
       "      <th>level of concernedness about FD</th>\n",
       "      <th>level of confidence in the ability to detect FD during  hiring</th>\n",
       "      <th>encourage more measures</th>\n",
       "      <th>familiar with verification methods</th>\n",
       "      <th>know employees with FD</th>\n",
       "      <th>interested in our website</th>\n",
       "      <th>how likely to recommend our website</th>\n",
       "    </tr>\n",
       "  </thead>\n",
       "  <tbody>\n",
       "    <tr>\n",
       "      <th>0</th>\n",
       "      <td>High School Diploma</td>\n",
       "      <td>Student</td>\n",
       "      <td>No</td>\n",
       "      <td>3</td>\n",
       "      <td>4</td>\n",
       "      <td>Yes</td>\n",
       "      <td>No</td>\n",
       "      <td>No</td>\n",
       "      <td>Maybe</td>\n",
       "      <td>3</td>\n",
       "    </tr>\n",
       "    <tr>\n",
       "      <th>1</th>\n",
       "      <td>High School Diploma</td>\n",
       "      <td>Student</td>\n",
       "      <td>No</td>\n",
       "      <td>4</td>\n",
       "      <td>4</td>\n",
       "      <td>Yes</td>\n",
       "      <td>No</td>\n",
       "      <td>No</td>\n",
       "      <td>Maybe</td>\n",
       "      <td>3</td>\n",
       "    </tr>\n",
       "    <tr>\n",
       "      <th>2</th>\n",
       "      <td>High School Diploma</td>\n",
       "      <td>Student</td>\n",
       "      <td>No</td>\n",
       "      <td>3</td>\n",
       "      <td>5</td>\n",
       "      <td>Yes</td>\n",
       "      <td>No</td>\n",
       "      <td>No</td>\n",
       "      <td>Yes</td>\n",
       "      <td>5</td>\n",
       "    </tr>\n",
       "    <tr>\n",
       "      <th>3</th>\n",
       "      <td>High School Diploma</td>\n",
       "      <td>Student</td>\n",
       "      <td>No</td>\n",
       "      <td>3</td>\n",
       "      <td>2</td>\n",
       "      <td>Yes</td>\n",
       "      <td>No</td>\n",
       "      <td>Yes</td>\n",
       "      <td>Maybe</td>\n",
       "      <td>2</td>\n",
       "    </tr>\n",
       "    <tr>\n",
       "      <th>4</th>\n",
       "      <td>High School Diploma</td>\n",
       "      <td>Student</td>\n",
       "      <td>No</td>\n",
       "      <td>5</td>\n",
       "      <td>3</td>\n",
       "      <td>Yes</td>\n",
       "      <td>No</td>\n",
       "      <td>No</td>\n",
       "      <td>Yes</td>\n",
       "      <td>4</td>\n",
       "    </tr>\n",
       "  </tbody>\n",
       "</table>\n",
       "</div>"
      ],
      "text/plain": [
       "  highest educational degree current job faked a degree  \\\n",
       "0        High School Diploma     Student             No   \n",
       "1        High School Diploma     Student             No   \n",
       "2        High School Diploma     Student             No   \n",
       "3        High School Diploma     Student             No   \n",
       "4        High School Diploma     Student             No   \n",
       "\n",
       "   level of concernedness about FD  \\\n",
       "0                                3   \n",
       "1                                4   \n",
       "2                                3   \n",
       "3                                3   \n",
       "4                                5   \n",
       "\n",
       "   level of confidence in the ability to detect FD during  hiring  \\\n",
       "0                                                  4                \n",
       "1                                                  4                \n",
       "2                                                  5                \n",
       "3                                                  2                \n",
       "4                                                  3                \n",
       "\n",
       "  encourage more measures familiar with verification methods  \\\n",
       "0                     Yes                                 No   \n",
       "1                     Yes                                 No   \n",
       "2                     Yes                                 No   \n",
       "3                     Yes                                 No   \n",
       "4                     Yes                                 No   \n",
       "\n",
       "  know employees with FD interested in our website  \\\n",
       "0                     No                     Maybe   \n",
       "1                     No                     Maybe   \n",
       "2                     No                       Yes   \n",
       "3                    Yes                     Maybe   \n",
       "4                     No                       Yes   \n",
       "\n",
       "   how likely to recommend our website  \n",
       "0                                    3  \n",
       "1                                    3  \n",
       "2                                    5  \n",
       "3                                    2  \n",
       "4                                    4  "
      ]
     },
     "execution_count": 3,
     "metadata": {},
     "output_type": "execute_result"
    }
   ],
   "source": [
    "df = pd.read_csv('ucas-tech-pals/ucertified_data_science/readyToProcessData.csv')\n",
    "df.drop('Timestamp', axis=1, inplace=True)\n",
    "df.head()"
   ]
  },
  {
   "cell_type": "markdown",
   "metadata": {},
   "source": [
    "### Getting to know the data well"
   ]
  },
  {
   "cell_type": "code",
   "execution_count": 4,
   "metadata": {},
   "outputs": [
    {
     "data": {
      "text/plain": [
       "5    74\n",
       "4    44\n",
       "3    38\n",
       "2    13\n",
       "1    11\n",
       "Name: how likely to recommend our website, dtype: int64"
      ]
     },
     "execution_count": 4,
     "metadata": {},
     "output_type": "execute_result"
    }
   ],
   "source": [
    "df['how likely to recommend our website'].value_counts()"
   ]
  },
  {
   "cell_type": "code",
   "execution_count": 8,
   "metadata": {},
   "outputs": [],
   "source": [
    "df_v2 = df[['how likely to recommend our website','current job']]\n",
    "pt = pd.pivot_table(df_v2, values='how likely to recommend our website', index='current job', aggfunc='median')"
   ]
  },
  {
   "cell_type": "code",
   "execution_count": 9,
   "metadata": {},
   "outputs": [
    {
     "data": {
      "text/plain": [
       "[<matplotlib.lines.Line2D at 0x273b787a1c0>]"
      ]
     },
     "execution_count": 9,
     "metadata": {},
     "output_type": "execute_result"
    },
    {
     "data": {
      "image/png": "[encoded data removed]",
      "text/plain": [
       "<Figure size 640x480 with 1 Axes>"
      ]
     },
     "metadata": {},
     "output_type": "display_data"
    }
   ],
   "source": [
    "plt.plot(pt)"
   ]
  },
  {
   "cell_type": "code",
   "execution_count": 3,
   "metadata": {},
   "outputs": [
    {
     "name": "stdout",
     "output_type": "stream",
     "text": [
      "<class 'pandas.core.frame.DataFrame'>\n",
      "RangeIndex: 180 entries, 0 to 179\n",
      "Data columns (total 10 columns):\n",
      " #   Column                                                          Non-Null Count  Dtype \n",
      "---  ------                                                          --------------  ----- \n",
      " 0   highest educational degree                                      180 non-null    object\n",
      " 1   current job                                                     180 non-null    object\n",
      " 2   faked a degree                                                  180 non-null    object\n",
      " 3   level of concernedness about FD                                 180 non-null    int64 \n",
      " 4   level of confidence in the ability to detect FD during  hiring  180 non-null    int64 \n",
      " 5   encourage more measures                                         180 non-null    object\n",
      " 6   familiar with verification methods                              180 non-null    object\n",
      " 7   know employees with FD                                          180 non-null    object\n",
      " 8   interested in our website                                       180 non-null    object\n",
      " 9   how likely to recommend our website                             180 non-null    int64 \n",
      "dtypes: int64(3), object(7)\n",
      "memory usage: 14.2+ KB\n"
     ]
    }
   ],
   "source": [
    "df.info()"
   ]
  },
  {
   "cell_type": "code",
   "execution_count": 4,
   "metadata": {},
   "outputs": [
    {
     "data": {
      "text/plain": [
       "Student              135\n",
       "Professor/teacher     23\n",
       "Other                 14\n",
       "Recruiter              4\n",
       "Company manager        4\n",
       "Name: current job, dtype: int64"
      ]
     },
     "execution_count": 4,
     "metadata": {},
     "output_type": "execute_result"
    }
   ],
   "source": [
    "df['current job'].value_counts()"
   ]
  },
  {
   "cell_type": "code",
   "execution_count": 5,
   "metadata": {},
   "outputs": [
    {
     "data": {
      "text/plain": [
       "No       168\n",
       "Yes        9\n",
       "Maybe      3\n",
       "Name: faked a degree, dtype: int64"
      ]
     },
     "execution_count": 5,
     "metadata": {},
     "output_type": "execute_result"
    }
   ],
   "source": [
    "df['familiar with verification methods'].value_counts()"
   ]
  },
  {
   "cell_type": "code",
   "execution_count": 11,
   "metadata": {},
   "outputs": [
    {
     "data": {
      "text/plain": [
       "5    78\n",
       "3    41\n",
       "4    26\n",
       "1    23\n",
       "2    12\n",
       "Name: level of concernedness about FD, dtype: int64"
      ]
     },
     "execution_count": 11,
     "metadata": {},
     "output_type": "execute_result"
    }
   ],
   "source": [
    "df['level of concernedness about FD'].value_counts()"
   ]
  },
  {
   "cell_type": "code",
   "execution_count": null,
   "metadata": {},
   "outputs": [],
   "source": [
    "p_t = pd.pivot_table(df, values='familiar with verification methods', index=['current job', 'familiar with verification methods'], aggfunc='count')"
   ]
  },
  {
   "cell_type": "code",
   "execution_count": 19,
   "metadata": {},
   "outputs": [
    {
     "data": {
      "text/html": [
       "<div>\n",
       "<style scoped>\n",
       "    .dataframe tbody tr th:only-of-type {\n",
       "        vertical-align: middle;\n",
       "    }\n",
       "\n",
       "    .dataframe tbody tr th {\n",
       "        vertical-align: top;\n",
       "    }\n",
       "\n",
       "    .dataframe thead th {\n",
       "        text-align: right;\n",
       "    }\n",
       "</style>\n",
       "<table border=\"1\" class=\"dataframe\">\n",
       "  <thead>\n",
       "    <tr style=\"text-align: right;\">\n",
       "      <th></th>\n",
       "      <th></th>\n",
       "      <th>encourage more measures</th>\n",
       "      <th>faked a degree</th>\n",
       "      <th>highest educational degree</th>\n",
       "      <th>how likely to recommend our website</th>\n",
       "      <th>interested in our website</th>\n",
       "      <th>know employees with FD</th>\n",
       "      <th>level of concernedness about FD</th>\n",
       "      <th>level of confidence in the ability to detect FD during  hiring</th>\n",
       "    </tr>\n",
       "    <tr>\n",
       "      <th>current job</th>\n",
       "      <th>familiar with verification methods</th>\n",
       "      <th></th>\n",
       "      <th></th>\n",
       "      <th></th>\n",
       "      <th></th>\n",
       "      <th></th>\n",
       "      <th></th>\n",
       "      <th></th>\n",
       "      <th></th>\n",
       "    </tr>\n",
       "  </thead>\n",
       "  <tbody>\n",
       "    <tr>\n",
       "      <th rowspan=\"3\" valign=\"top\">Company manager</th>\n",
       "      <th>I prefer not to say</th>\n",
       "      <td>1</td>\n",
       "      <td>1</td>\n",
       "      <td>1</td>\n",
       "      <td>1</td>\n",
       "      <td>1</td>\n",
       "      <td>1</td>\n",
       "      <td>1</td>\n",
       "      <td>1</td>\n",
       "    </tr>\n",
       "    <tr>\n",
       "      <th>No</th>\n",
       "      <td>2</td>\n",
       "      <td>2</td>\n",
       "      <td>2</td>\n",
       "      <td>2</td>\n",
       "      <td>2</td>\n",
       "      <td>2</td>\n",
       "      <td>2</td>\n",
       "      <td>2</td>\n",
       "    </tr>\n",
       "    <tr>\n",
       "      <th>Yes</th>\n",
       "      <td>1</td>\n",
       "      <td>1</td>\n",
       "      <td>1</td>\n",
       "      <td>1</td>\n",
       "      <td>1</td>\n",
       "      <td>1</td>\n",
       "      <td>1</td>\n",
       "      <td>1</td>\n",
       "    </tr>\n",
       "    <tr>\n",
       "      <th rowspan=\"3\" valign=\"top\">Other</th>\n",
       "      <th>I prefer not to say</th>\n",
       "      <td>2</td>\n",
       "      <td>2</td>\n",
       "      <td>2</td>\n",
       "      <td>2</td>\n",
       "      <td>2</td>\n",
       "      <td>2</td>\n",
       "      <td>2</td>\n",
       "      <td>2</td>\n",
       "    </tr>\n",
       "    <tr>\n",
       "      <th>No</th>\n",
       "      <td>11</td>\n",
       "      <td>11</td>\n",
       "      <td>11</td>\n",
       "      <td>11</td>\n",
       "      <td>11</td>\n",
       "      <td>11</td>\n",
       "      <td>11</td>\n",
       "      <td>11</td>\n",
       "    </tr>\n",
       "    <tr>\n",
       "      <th>Yes</th>\n",
       "      <td>1</td>\n",
       "      <td>1</td>\n",
       "      <td>1</td>\n",
       "      <td>1</td>\n",
       "      <td>1</td>\n",
       "      <td>1</td>\n",
       "      <td>1</td>\n",
       "      <td>1</td>\n",
       "    </tr>\n",
       "    <tr>\n",
       "      <th rowspan=\"3\" valign=\"top\">Professor/teacher</th>\n",
       "      <th>I prefer not to say</th>\n",
       "      <td>1</td>\n",
       "      <td>1</td>\n",
       "      <td>1</td>\n",
       "      <td>1</td>\n",
       "      <td>1</td>\n",
       "      <td>1</td>\n",
       "      <td>1</td>\n",
       "      <td>1</td>\n",
       "    </tr>\n",
       "    <tr>\n",
       "      <th>No</th>\n",
       "      <td>19</td>\n",
       "      <td>19</td>\n",
       "      <td>19</td>\n",
       "      <td>19</td>\n",
       "      <td>19</td>\n",
       "      <td>19</td>\n",
       "      <td>19</td>\n",
       "      <td>19</td>\n",
       "    </tr>\n",
       "    <tr>\n",
       "      <th>Yes</th>\n",
       "      <td>3</td>\n",
       "      <td>3</td>\n",
       "      <td>3</td>\n",
       "      <td>3</td>\n",
       "      <td>3</td>\n",
       "      <td>3</td>\n",
       "      <td>3</td>\n",
       "      <td>3</td>\n",
       "    </tr>\n",
       "    <tr>\n",
       "      <th>Recruiter</th>\n",
       "      <th>No</th>\n",
       "      <td>4</td>\n",
       "      <td>4</td>\n",
       "      <td>4</td>\n",
       "      <td>4</td>\n",
       "      <td>4</td>\n",
       "      <td>4</td>\n",
       "      <td>4</td>\n",
       "      <td>4</td>\n",
       "    </tr>\n",
       "    <tr>\n",
       "      <th rowspan=\"3\" valign=\"top\">Student</th>\n",
       "      <th>I prefer not to say</th>\n",
       "      <td>9</td>\n",
       "      <td>9</td>\n",
       "      <td>9</td>\n",
       "      <td>9</td>\n",
       "      <td>9</td>\n",
       "      <td>9</td>\n",
       "      <td>9</td>\n",
       "      <td>9</td>\n",
       "    </tr>\n",
       "    <tr>\n",
       "      <th>No</th>\n",
       "      <td>119</td>\n",
       "      <td>119</td>\n",
       "      <td>119</td>\n",
       "      <td>119</td>\n",
       "      <td>119</td>\n",
       "      <td>119</td>\n",
       "      <td>119</td>\n",
       "      <td>119</td>\n",
       "    </tr>\n",
       "    <tr>\n",
       "      <th>Yes</th>\n",
       "      <td>7</td>\n",
       "      <td>7</td>\n",
       "      <td>7</td>\n",
       "      <td>7</td>\n",
       "      <td>7</td>\n",
       "      <td>7</td>\n",
       "      <td>7</td>\n",
       "      <td>7</td>\n",
       "    </tr>\n",
       "  </tbody>\n",
       "</table>\n",
       "</div>"
      ],
      "text/plain": [
       "                                                      encourage more measures  \\\n",
       "current job       familiar with verification methods                            \n",
       "Company manager   I prefer not to say                                       1   \n",
       "                  No                                                        2   \n",
       "                  Yes                                                       1   \n",
       "Other             I prefer not to say                                       2   \n",
       "                  No                                                       11   \n",
       "                  Yes                                                       1   \n",
       "Professor/teacher I prefer not to say                                       1   \n",
       "                  No                                                       19   \n",
       "                  Yes                                                       3   \n",
       "Recruiter         No                                                        4   \n",
       "Student           I prefer not to say                                       9   \n",
       "                  No                                                      119   \n",
       "                  Yes                                                       7   \n",
       "\n",
       "                                                      faked a degree  \\\n",
       "current job       familiar with verification methods                   \n",
       "Company manager   I prefer not to say                              1   \n",
       "                  No                                               2   \n",
       "                  Yes                                              1   \n",
       "Other             I prefer not to say                              2   \n",
       "                  No                                              11   \n",
       "                  Yes                                              1   \n",
       "Professor/teacher I prefer not to say                              1   \n",
       "                  No                                              19   \n",
       "                  Yes                                              3   \n",
       "Recruiter         No                                               4   \n",
       "Student           I prefer not to say                              9   \n",
       "                  No                                             119   \n",
       "                  Yes                                              7   \n",
       "\n",
       "                                                      highest educational degree  \\\n",
       "current job       familiar with verification methods                               \n",
       "Company manager   I prefer not to say                                          1   \n",
       "                  No                                                           2   \n",
       "                  Yes                                                          1   \n",
       "Other             I prefer not to say                                          2   \n",
       "                  No                                                          11   \n",
       "                  Yes                                                          1   \n",
       "Professor/teacher I prefer not to say                                          1   \n",
       "                  No                                                          19   \n",
       "                  Yes                                                          3   \n",
       "Recruiter         No                                                           4   \n",
       "Student           I prefer not to say                                          9   \n",
       "                  No                                                         119   \n",
       "                  Yes                                                          7   \n",
       "\n",
       "                                                      how likely to recommend our website  \\\n",
       "current job       familiar with verification methods                                        \n",
       "Company manager   I prefer not to say                                                   1   \n",
       "                  No                                                                    2   \n",
       "                  Yes                                                                   1   \n",
       "Other             I prefer not to say                                                   2   \n",
       "                  No                                                                   11   \n",
       "                  Yes                                                                   1   \n",
       "Professor/teacher I prefer not to say                                                   1   \n",
       "                  No                                                                   19   \n",
       "                  Yes                                                                   3   \n",
       "Recruiter         No                                                                    4   \n",
       "Student           I prefer not to say                                                   9   \n",
       "                  No                                                                  119   \n",
       "                  Yes                                                                   7   \n",
       "\n",
       "                                                      interested in our website  \\\n",
       "current job       familiar with verification methods                              \n",
       "Company manager   I prefer not to say                                         1   \n",
       "                  No                                                          2   \n",
       "                  Yes                                                         1   \n",
       "Other             I prefer not to say                                         2   \n",
       "                  No                                                         11   \n",
       "                  Yes                                                         1   \n",
       "Professor/teacher I prefer not to say                                         1   \n",
       "                  No                                                         19   \n",
       "                  Yes                                                         3   \n",
       "Recruiter         No                                                          4   \n",
       "Student           I prefer not to say                                         9   \n",
       "                  No                                                        119   \n",
       "                  Yes                                                         7   \n",
       "\n",
       "                                                      know employees with FD  \\\n",
       "current job       familiar with verification methods                           \n",
       "Company manager   I prefer not to say                                      1   \n",
       "                  No                                                       2   \n",
       "                  Yes                                                      1   \n",
       "Other             I prefer not to say                                      2   \n",
       "                  No                                                      11   \n",
       "                  Yes                                                      1   \n",
       "Professor/teacher I prefer not to say                                      1   \n",
       "                  No                                                      19   \n",
       "                  Yes                                                      3   \n",
       "Recruiter         No                                                       4   \n",
       "Student           I prefer not to say                                      9   \n",
       "                  No                                                     119   \n",
       "                  Yes                                                      7   \n",
       "\n",
       "                                                      level of concernedness about FD  \\\n",
       "current job       familiar with verification methods                                    \n",
       "Company manager   I prefer not to say                                               1   \n",
       "                  No                                                                2   \n",
       "                  Yes                                                               1   \n",
       "Other             I prefer not to say                                               2   \n",
       "                  No                                                               11   \n",
       "                  Yes                                                               1   \n",
       "Professor/teacher I prefer not to say                                               1   \n",
       "                  No                                                               19   \n",
       "                  Yes                                                               3   \n",
       "Recruiter         No                                                                4   \n",
       "Student           I prefer not to say                                               9   \n",
       "                  No                                                              119   \n",
       "                  Yes                                                               7   \n",
       "\n",
       "                                                      level of confidence in the ability to detect FD during  hiring  \n",
       "current job       familiar with verification methods                                                                  \n",
       "Company manager   I prefer not to say                                                                 1               \n",
       "                  No                                                                                  2               \n",
       "                  Yes                                                                                 1               \n",
       "Other             I prefer not to say                                                                 2               \n",
       "                  No                                                                                 11               \n",
       "                  Yes                                                                                 1               \n",
       "Professor/teacher I prefer not to say                                                                 1               \n",
       "                  No                                                                                 19               \n",
       "                  Yes                                                                                 3               \n",
       "Recruiter         No                                                                                  4               \n",
       "Student           I prefer not to say                                                                 9               \n",
       "                  No                                                                                119               \n",
       "                  Yes                                                                                 7               "
      ]
     },
     "execution_count": 19,
     "metadata": {},
     "output_type": "execute_result"
    }
   ],
   "source": [
    "p_t"
   ]
  },
  {
   "cell_type": "code",
   "execution_count": 9,
   "metadata": {},
   "outputs": [
    {
     "data": {
      "text/plain": [
       "21"
      ]
     },
     "execution_count": 9,
     "metadata": {},
     "output_type": "execute_result"
    }
   ],
   "source": [
    "df.duplicated().sum()"
   ]
  }
 ],
 "metadata": {
  "kernelspec": {
   "display_name": "Python 3",
   "language": "python",
   "name": "python3"
  },
  "language_info": {
   "codemirror_mode": {
    "name": "ipython",
    "version": 3
   },
   "file_extension": ".py",
   "mimetype": "text/x-python",
   "name": "python",
   "nbconvert_exporter": "python",
   "pygments_lexer": "ipython3",
   "version": "3.9.13"
  },
  "orig_nbformat": 4
 },
 "nbformat": 4,
 "nbformat_minor": 2
}
